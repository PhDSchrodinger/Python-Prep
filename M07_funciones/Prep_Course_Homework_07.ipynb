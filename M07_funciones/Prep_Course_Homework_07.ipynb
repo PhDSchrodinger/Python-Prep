{
 "cells": [
  {
   "attachments": {},
   "cell_type": "markdown",
   "metadata": {},
   "source": [
    "## Funciones"
   ]
  },
  {
   "cell_type": "code",
   "execution_count": 7,
   "metadata": {},
   "outputs": [
    {
     "data": {
      "text/plain": [
       "208"
      ]
     },
     "execution_count": 7,
     "metadata": {},
     "output_type": "execute_result"
    }
   ],
   "source": [
    "def myFunction(lista):\n",
    "    resultado = 0\n",
    "    for i in lista:\n",
    "        if i % 2 == 0:\n",
    "            resultado += i\n",
    "        else:\n",
    "            resultado -= i\n",
    "    return resultado\n",
    "lista = [1,2,3,4,5,6,7,8,9,10,11,12,12,13,14,15,16,17,18,19,20,21,22,23,24,25,26,2,28,29,30,31,32,33,34,35,36,3,38,39,40,41,42,43,44,45,46,4,48,49,50,51,52,53,54,55,56,5,58,59,60]\n",
    "myFunction(lista)\n"
   ]
  },
  {
   "cell_type": "code",
   "execution_count": 16,
   "metadata": {},
   "outputs": [
    {
     "name": "stdout",
     "output_type": "stream",
     "text": [
      "False\n"
     ]
    }
   ],
   "source": [
    "verdadero = True\n",
    "falso = False\n",
    "print(verdadero and falso)"
   ]
  },
  {
   "attachments": {},
   "cell_type": "markdown",
   "metadata": {},
   "source": [
    "1) Crear una función que reciba un número como parámetro y devuelva True si es primo y False si no lo es"
   ]
  },
  {
   "cell_type": "code",
   "execution_count": 83,
   "metadata": {},
   "outputs": [
    {
     "name": "stdout",
     "output_type": "stream",
     "text": [
      "NO ES PRIMO\n"
     ]
    }
   ],
   "source": [
    "def number(numero):\n",
    "    if numero == 0:\n",
    "        return print('no es primo')\n",
    "    elif numero == 1:\n",
    "        return True\n",
    "    elif numero == 2:\n",
    "        return True\n",
    "    elif numero == 3:\n",
    "        return True\n",
    "    elif numero % 2 != 0 and numero % 3 != 0:\n",
    "        return True\n",
    "    else:\n",
    "        return print(\"NO ES PRIMO\")\n",
    "number(124)"
   ]
  },
  {
   "attachments": {},
   "cell_type": "markdown",
   "metadata": {},
   "source": [
    "2) Utilizando la función del punto 1, realizar otra función que reciba de parámetro una lista de números y devuelva sólo aquellos que son primos en otra lista"
   ]
  },
  {
   "cell_type": "code",
   "execution_count": 85,
   "metadata": {},
   "outputs": [
    {
     "name": "stdout",
     "output_type": "stream",
     "text": [
      "[8, 2, 3, 4, 5, 6, 7]\n",
      "[2, 3, 5, 7]\n",
      "1441860748736\n",
      "NO ES PRIMO\n",
      "NO ES PRIMO\n",
      "NO ES PRIMO\n",
      "[2, 3, 5, 7]\n",
      "1441860758016\n"
     ]
    }
   ],
   "source": [
    "def lista_num(lista):\n",
    "    \n",
    "    print(lista)\n",
    "    lista2 = []\n",
    "    for i in lista:\n",
    "        es_primo = True\n",
    "        for j in range(2,i):\n",
    "            if i % j == 0:\n",
    "                es_primo = False\n",
    "                break\n",
    "        if es_primo and i>1:\n",
    "            lista2.append(i)    \n",
    "    return lista2\n",
    "\n",
    "lista = [8,2,3,4,5,6,7]\n",
    "primos = lista_num(lista)\n",
    "print(primos)\n",
    "print(id(primos))\n",
    "\n",
    "def extrae_primos_de_lista(lista):\n",
    "    lista_primos = []\n",
    "    for elemento in lista:\n",
    "        if number(int(elemento)):\n",
    "            lista_primos.append(elemento)\n",
    "    return lista_primos\n",
    "primos2 = extrae_primos_de_lista(lista)\n",
    "print(primos2)\n",
    "print(id(primos2))"
   ]
  },
  {
   "attachments": {},
   "cell_type": "markdown",
   "metadata": {},
   "source": [
    "3) Crear una función que al recibir una lista de números, devuelva el que más se repite y cuántas veces lo hace. Si hay más de un \"más repetido\", que devuelva cualquiera"
   ]
  },
  {
   "cell_type": "code",
   "execution_count": 149,
   "metadata": {},
   "outputs": [
    {
     "name": "stdout",
     "output_type": "stream",
     "text": [
      "([1, 1, 5, 6, 5, 6, 5], {1, 5, 6}, 'El ', 5, 'Se repite: ', 3)\n"
     ]
    }
   ],
   "source": [
    "from itertools import zip_longest\n",
    "def recibir(lista):\n",
    "    elementos = 0\n",
    "    contador = 0\n",
    "    valor = 0\n",
    "    lista2 = []\n",
    "    lista3 = 0\n",
    "    for i in lista:\n",
    "        elementos = lista.count(i)\n",
    "        if elementos > 1:\n",
    "            lista2.append(i)\n",
    "            contador += 1\n",
    "\n",
    "    for j,k in zip_longest(lista2,range(len(lista2))):\n",
    "        elementos = lista2.count(j)\n",
    "        if elementos >= elementos:\n",
    "            valor = lista2[k]\n",
    "            lista3 = elementos    \n",
    "        \n",
    "                    \n",
    "    return lista2, set(lista2), \"El \", valor, \"Se repite: \", lista3 \n",
    "     \n",
    "        \n",
    "lista3 = [1,1,5,6,8,10,22,5,6,4,11,9,5]\n",
    "print(recibir(lista3))\n"
   ]
  },
  {
   "cell_type": "code",
   "execution_count": 107,
   "metadata": {},
   "outputs": [
    {
     "name": "stdout",
     "output_type": "stream",
     "text": [
      "{'a': 1, 'b': 2, 'c': 3}\n"
     ]
    }
   ],
   "source": [
    "# Crear una lista de claves y valores\n",
    "claves = ['a', 'b', 'c']\n",
    "valores = [1, 2, 3]\n",
    "\n",
    "# Crear un diccionario vacío\n",
    "mi_diccionario = {}\n",
    "\n",
    "# Utilizar un bucle for para asignar claves y valores al diccionario\n",
    "for i in range(len(claves)):\n",
    "    mi_diccionario[claves[i]] = valores[i]\n",
    "\n",
    "print(mi_diccionario)\n"
   ]
  },
  {
   "attachments": {},
   "cell_type": "markdown",
   "metadata": {},
   "source": [
    "4) Crear una función que convierta entre grados Celsius, Farenheit y Kelvin<br>\n",
    "Fórmula 1\t: (°C × 9/5) + 32 = °F<br>\n",
    "Fórmula 2\t: °C + 273.15 = °K<br>\n",
    "Debe recibir 3 parámetros: el valor, la medida de orígen y la medida de destino\n"
   ]
  },
  {
   "cell_type": "code",
   "execution_count": 184,
   "metadata": {},
   "outputs": [
    {
     "name": "stdout",
     "output_type": "stream",
     "text": [
      "34\n"
     ]
    }
   ],
   "source": [
    "def convertir(valor,medida,destino):\n",
    "    resultado = 0\n",
    "    #valor = 0\n",
    "    #medida = str()\n",
    "    #destino = str()\n",
    "    if medida == \"C\" and destino == \"F\":\n",
    "        resultado = ((valor*(9/5))+32)\n",
    "        return resultado\n",
    "    elif medida == \"C\" and destino == \"K\":\n",
    "        resultado = valor + 273.15\n",
    "        return resultado\n",
    "    elif medida == \"F\" and destino == \"C\":\n",
    "        resultado = ((valor - 32)*(5//9))\n",
    "        return resultado\n",
    "    elif medida == \"F\" and destino == \"K\":\n",
    "        resultado = ((valor - 32)*(5//9)) + 273.15\n",
    "        return resultado\n",
    "    elif medida == \"K\" and destino == \"F\":\n",
    "        resultado = (((valor - 273.15 )*9/5) +32)\n",
    "        return resultado\n",
    "    elif medida == \"K\" and destino == \"C\":\n",
    "        resultado = valor - 273.15\n",
    "        return resultado\n",
    "    elif medida == \"C\" and destino == \"C\":\n",
    "        resultado = valor\n",
    "        return resultado\n",
    "    elif medida == \"F\" and destino == \"F\":\n",
    "        resultado = valor\n",
    "        return resultado\n",
    "    elif medida == \"K\" and destino == \"K\":\n",
    "        resultado = valor\n",
    "        return resultado\n",
    "    else:\n",
    "        print(\"escribe bien las letras en mayuscula\")\n",
    "\n",
    "print(convertir(34,\"C\",\"C\"))\n",
    "\n",
    "\n"
   ]
  },
  {
   "attachments": {},
   "cell_type": "markdown",
   "metadata": {},
   "source": [
    "5) Iterando una lista con los tres valores posibles de temperatura que recibe la función del punto 5, hacer un print para cada combinación de los mismos:"
   ]
  },
  {
   "cell_type": "code",
   "execution_count": 185,
   "metadata": {},
   "outputs": [
    {
     "name": "stdout",
     "output_type": "stream",
     "text": [
      "convertir 34 grados  C a C : 34\n",
      "convertir 34 grados  C a K : 307.15\n",
      "convertir 34 grados  C a F : 93.2\n",
      "convertir 34 grados  K a C : -239.14999999999998\n",
      "convertir 34 grados  K a K : 34\n",
      "convertir 34 grados  K a F : -398.46999999999997\n",
      "convertir 34 grados  F a C : 0\n",
      "convertir 34 grados  F a K : 273.15\n",
      "convertir 34 grados  F a F : 34\n"
     ]
    }
   ],
   "source": [
    "listaI=[(34,\"K\",\"F\"),(34,\"K\",\"C\"),(34,\"F\",\"C\"),(34,\"F\",\"K\"),(34,\"C\",\"F\"),(34,\"C\",\"K\")]\n",
    "listaII = []\n",
    "metricas = [\"C\", \"K\", \"F\"]\n",
    "for i in range(0,3):\n",
    "    for j in range(0,3):\n",
    "           \n",
    "        print(\"convertir 34 grados \", metricas [i], \"a\", metricas[j], \":\" ,convertir(34,metricas[i],metricas[j]))\n",
    "        \n"
   ]
  },
  {
   "attachments": {},
   "cell_type": "markdown",
   "metadata": {},
   "source": [
    "6) Armar una función que devuelva el factorial de un número. Tener en cuenta que el usuario puede equivocarse y enviar de parámetro un número no entero o negativo"
   ]
  },
  {
   "cell_type": "code",
   "execution_count": 1,
   "metadata": {},
   "outputs": [
    {
     "name": "stdout",
     "output_type": "stream",
     "text": [
      "el factorial de:  1  es:  1\n"
     ]
    }
   ],
   "source": [
    "def factorial(numero):\n",
    "    \"\"\"Calculando el factorial del numero:\"\"\"\n",
    "    prueba = type(numero)\n",
    "    resultado = numero\n",
    "    if prueba == int:\n",
    "        if (numero > 1):\n",
    "            numero = numero*factorial(numero-1)\n",
    "        return numero\n",
    "        \n",
    "    else:\n",
    "        print(\"el numero proporcionado no es un entero positivo\")\n",
    "    \n",
    "    \n",
    "numero = 1\n",
    "print(\"el factorial de: \", numero, \" es: \", factorial(numero))"
   ]
  },
  {
   "cell_type": "code",
   "execution_count": 36,
   "metadata": {},
   "outputs": [
    {
     "data": {
      "text/plain": [
       "120"
      ]
     },
     "execution_count": 36,
     "metadata": {},
     "output_type": "execute_result"
    }
   ],
   "source": [
    "def factorial(numero):\n",
    "    ''' Calcula el factorial de un número'''\n",
    "    if(numero>1):\n",
    "        numero=numero*factorial(numero-1)\n",
    "    return numero\n",
    "factorial(5)\n"
   ]
  },
  {
   "cell_type": "code",
   "execution_count": 37,
   "metadata": {},
   "outputs": [
    {
     "name": "stdout",
     "output_type": "stream",
     "text": [
      "Help on function factorial in module __main__:\n",
      "\n",
      "factorial(numero)\n",
      "    Calcula el factorial de un número\n",
      "\n"
     ]
    }
   ],
   "source": [
    "help(factorial)"
   ]
  },
  {
   "cell_type": "markdown",
   "metadata": {},
   "source": []
  }
 ],
 "metadata": {
  "interpreter": {
   "hash": "c85384e4cb51c8b72350f3a8712cc8351fdc3955e32a27f9b60c6242ab125f01"
  },
  "kernelspec": {
   "display_name": "Python 3 (ipykernel)",
   "language": "python",
   "name": "python3"
  },
  "language_info": {
   "codemirror_mode": {
    "name": "ipython",
    "version": 3
   },
   "file_extension": ".py",
   "mimetype": "text/x-python",
   "name": "python",
   "nbconvert_exporter": "python",
   "pygments_lexer": "ipython3",
   "version": "3.11.1"
  }
 },
 "nbformat": 4,
 "nbformat_minor": 4
}
