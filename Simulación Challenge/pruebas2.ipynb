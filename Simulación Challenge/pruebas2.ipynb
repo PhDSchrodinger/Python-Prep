{
 "cells": [
  {
   "cell_type": "code",
   "execution_count": 2,
   "metadata": {},
   "outputs": [
    {
     "name": "stdout",
     "output_type": "stream",
     "text": [
      "1 3\n"
     ]
    }
   ],
   "source": [
    "mi_tupla =(1,2,3)\n",
    "a, _, c =mi_tupla\n",
    "print(a,c)"
   ]
  },
  {
   "cell_type": "code",
   "execution_count": 4,
   "metadata": {},
   "outputs": [
    {
     "name": "stdout",
     "output_type": "stream",
     "text": [
      "['a', 'x', 'c', 'd']\n"
     ]
    }
   ],
   "source": [
    "milista = ['a','b','c','d']\n",
    "milista = ['x' if x=='b' else x for x in milista]\n",
    "print(milista)"
   ]
  },
  {
   "cell_type": "code",
   "execution_count": 6,
   "metadata": {},
   "outputs": [],
   "source": [
    "def myFunction(lista):\n",
    "    resultado = 0\n",
    "    for i in lista:\n",
    "        if i % 2 == 0:\n",
    "            reseultado +=i\n",
    "        else:\n",
    "            resultado -=i\n",
    "    return resultado\n",
    "\n",
    "my\n"
   ]
  },
  {
   "cell_type": "code",
   "execution_count": null,
   "metadata": {},
   "outputs": [],
   "source": []
  }
 ],
 "metadata": {
  "kernelspec": {
   "display_name": "Python 3",
   "language": "python",
   "name": "python3"
  },
  "language_info": {
   "codemirror_mode": {
    "name": "ipython",
    "version": 3
   },
   "file_extension": ".py",
   "mimetype": "text/x-python",
   "name": "python",
   "nbconvert_exporter": "python",
   "pygments_lexer": "ipython3",
   "version": "3.11.1"
  }
 },
 "nbformat": 4,
 "nbformat_minor": 2
}
