{
 "cells": [
  {
   "attachments": {},
   "cell_type": "markdown",
   "metadata": {},
   "source": [
    "## Flujos de Control"
   ]
  },
  {
   "attachments": {},
   "cell_type": "markdown",
   "metadata": {},
   "source": [
    "1) Crear una variable que contenga un elemento del conjunto de números enteros y luego imprimir por pantalla si es mayor o menor a cero"
   ]
  },
  {
   "cell_type": "code",
   "execution_count": 12,
   "metadata": {},
   "outputs": [
    {
     "name": "stdout",
     "output_type": "stream",
     "text": [
      "es igual a cero\n"
     ]
    }
   ],
   "source": [
    "a = 0\n",
    "if (a > 0):\n",
    "    print(\"es mayor a cero\")\n",
    "elif (a < 0):\n",
    "    print(\"es menor a cero\")\n",
    "elif (a == 0):\n",
    "    print(\"es igual a cero\")\n",
    "else:\n",
    "    print(\"no  es un entero\")"
   ]
  },
  {
   "attachments": {},
   "cell_type": "markdown",
   "metadata": {},
   "source": [
    "2) Crear dos variables y un condicional que informe si son del mismo tipo de dato"
   ]
  },
  {
   "cell_type": "code",
   "execution_count": 15,
   "metadata": {},
   "outputs": [
    {
     "name": "stdout",
     "output_type": "stream",
     "text": [
      "son del mismo tipo\n"
     ]
    }
   ],
   "source": [
    "a = 2\n",
    "b = 8\n",
    "if (type(a) == type(b)):\n",
    "    print('son del mismo tipo')\n",
    "else:\n",
    "    print(\"no son del mismo tipo\")"
   ]
  },
  {
   "attachments": {},
   "cell_type": "markdown",
   "metadata": {},
   "source": [
    "3) Para los valores enteros del 1 al 20, imprimir por pantalla si es par o impar"
   ]
  },
  {
   "cell_type": "code",
   "execution_count": 27,
   "metadata": {},
   "outputs": [
    {
     "name": "stdout",
     "output_type": "stream",
     "text": [
      "1 es impar\n",
      "2 es par\n",
      "3 es impar\n",
      "4 es par\n",
      "5 es impar\n",
      "6 es par\n",
      "8 es par\n",
      "9 es impar\n",
      "10 es par\n",
      "11 es impar\n",
      "12 es par\n",
      "13 es impar\n",
      "14 es par\n",
      "15 es impar\n",
      "16 es par\n",
      "17 es impar\n",
      "18 es par\n",
      "19 es impar\n",
      "20 es par\n"
     ]
    }
   ],
   "source": [
    "a = (1,2,3,4,5,6,8,9,10,11,12,13,14,15,16,17,18,19,20)\n",
    "for i in a:\n",
    "    \n",
    "    if (i%2 == 0):\n",
    "        print( str(i) + \" es par\")\n",
    "    else:\n",
    "        print( str(i) +' es impar')"
   ]
  },
  {
   "attachments": {},
   "cell_type": "markdown",
   "metadata": {},
   "source": [
    "4) En un ciclo for mostrar para los valores entre 0 y 5 el resultado de elevarlo a la potencia igual a 3"
   ]
  },
  {
   "cell_type": "code",
   "execution_count": 34,
   "metadata": {},
   "outputs": [
    {
     "name": "stdout",
     "output_type": "stream",
     "text": [
      "0 elevado a la 3 es:\n",
      "0\n",
      "1 elevado a la 3 es:\n",
      "1\n",
      "2 elevado a la 3 es:\n",
      "8\n",
      "3 elevado a la 3 es:\n",
      "27\n",
      "4 elevado a la 3 es:\n",
      "64\n",
      "5 elevado a la 3 es:\n",
      "125\n"
     ]
    }
   ],
   "source": [
    "for i in range(0,6):\n",
    "    a = i**3\n",
    "    print(str(i), \"elevado a la 3 es:\", )\n",
    "    print(str(a))\n"
   ]
  },
  {
   "attachments": {},
   "cell_type": "markdown",
   "metadata": {},
   "source": [
    "5) Crear una variable que contenga un número entero y realizar un ciclo for la misma cantidad de ciclos"
   ]
  },
  {
   "cell_type": "code",
   "execution_count": 39,
   "metadata": {},
   "outputs": [
    {
     "name": "stdout",
     "output_type": "stream",
     "text": [
      "0\n",
      "1\n",
      "2\n",
      "3\n",
      "4\n",
      "5\n"
     ]
    }
   ],
   "source": [
    "a=6\n",
    "for i in range(0,a):\n",
    "    print(i)"
   ]
  },
  {
   "attachments": {},
   "cell_type": "markdown",
   "metadata": {},
   "source": [
    "6) Utilizar un ciclo while para realizar el factorial de un número guardado en una variable, sólo si la variable contiene un número entero mayor a 0"
   ]
  },
  {
   "cell_type": "code",
   "execution_count": 2,
   "metadata": {},
   "outputs": [
    {
     "name": "stdout",
     "output_type": "stream",
     "text": [
      "6\n",
      "va\n"
     ]
    }
   ],
   "source": [
    "n = 3\n",
    "i = 1\n",
    "if (type(n) == type(int()) and n>0):\n",
    "    while (n>0):\n",
    "        i *= n\n",
    "        n -= 1 \n",
    "    \n",
    "    print(i)\n",
    "    print('va')\n",
    "else:\n",
    "    print('no es entero mayor a cero')"
   ]
  },
  {
   "attachments": {},
   "cell_type": "markdown",
   "metadata": {},
   "source": [
    "7) Crear un ciclo for dentro de un ciclo while"
   ]
  },
  {
   "cell_type": "code",
   "execution_count": 88,
   "metadata": {},
   "outputs": [
    {
     "name": "stdout",
     "output_type": "stream",
     "text": [
      "estamos imprimiendo hasta el:  0\n",
      "estamos imprimiendo hasta el:  1\n",
      "estamos imprimiendo hasta el:  2\n",
      "estamos imprimiendo hasta el:  3\n",
      "Esta es la vuelta:  5 ***********\n",
      "estamos imprimiendo hasta el:  0\n",
      "estamos imprimiendo hasta el:  1\n",
      "estamos imprimiendo hasta el:  2\n",
      "estamos imprimiendo hasta el:  3\n",
      "Esta es la vuelta:  4 ***********\n",
      "estamos imprimiendo hasta el:  0\n",
      "estamos imprimiendo hasta el:  1\n",
      "estamos imprimiendo hasta el:  2\n",
      "estamos imprimiendo hasta el:  3\n",
      "Esta es la vuelta:  3 ***********\n",
      "estamos imprimiendo hasta el:  0\n",
      "estamos imprimiendo hasta el:  1\n",
      "estamos imprimiendo hasta el:  2\n",
      "estamos imprimiendo hasta el:  3\n",
      "Esta es la vuelta:  2 ***********\n",
      "estamos imprimiendo hasta el:  0\n",
      "estamos imprimiendo hasta el:  1\n",
      "estamos imprimiendo hasta el:  2\n",
      "estamos imprimiendo hasta el:  3\n",
      "Esta es la vuelta:  1 ***********\n",
      "estamos imprimiendo hasta el:  0\n",
      "estamos imprimiendo hasta el:  1\n",
      "estamos imprimiendo hasta el:  2\n",
      "estamos imprimiendo hasta el:  3\n",
      "Esta es la vuelta:  0 ***********\n"
     ]
    }
   ],
   "source": [
    "a = 6\n",
    "b= 4\n",
    "while a > 0:\n",
    "    a -= 1\n",
    "    for i in range (0,b):\n",
    "        print(\"estamos imprimiendo hasta el: \", i)\n",
    "    print(\"Esta es la vuelta: \", a, \"***********\")"
   ]
  },
  {
   "attachments": {},
   "cell_type": "markdown",
   "metadata": {},
   "source": [
    "8) Crear un ciclo while dentro de un ciclo for"
   ]
  },
  {
   "cell_type": "code",
   "execution_count": 92,
   "metadata": {},
   "outputs": [
    {
     "name": "stdout",
     "output_type": "stream",
     "text": [
      "5 ciclo while\n",
      "4 ciclo while\n",
      "3 ciclo while\n",
      "2 ciclo while\n",
      "1 ciclo while\n",
      "CICLOS PARA TERMINAR:  3\n",
      "CICLOS PARA TERMINAR:  2\n",
      "CICLOS PARA TERMINAR:  1\n"
     ]
    }
   ],
   "source": [
    "a = 5\n",
    "b = 3\n",
    "for i in range(0,b):\n",
    "    while a > 0 :\n",
    "        a -= 1\n",
    "        print(a+1, \"ciclo while\")\n",
    "    print(\"CICLOS PARA TERMINAR: \", b-i)"
   ]
  },
  {
   "attachments": {},
   "cell_type": "markdown",
   "metadata": {},
   "source": [
    "9) Imprimir los números primos existentes entre 0 y 30"
   ]
  },
  {
   "cell_type": "code",
   "execution_count": 2,
   "metadata": {},
   "outputs": [
    {
     "name": "stdout",
     "output_type": "stream",
     "text": [
      "1 Es un numero primo\n",
      "2 Es un numero primo\n",
      "3 Es un numero primo\n",
      "7 Es un numero primo\n",
      "11 Es un numero primo\n",
      "13 Es un numero primo\n",
      "17 Es un numero primo\n",
      "19 Es un numero primo\n",
      "23 Es un numero primo\n",
      "29 Es un numero primo\n"
     ]
    }
   ],
   "source": [
    "for i in range(0,30):\n",
    "    if i == 2 or i == 3:\n",
    "        print(i, \"Es un numero primo\")\n",
    "    elif i%2 == 0 or i%3==0 or i%5==0:\n",
    "        pass\n",
    "        \n",
    "    else:\n",
    "        print(i, \"Es un numero primo\")\n"
   ]
  },
  {
   "attachments": {},
   "cell_type": "markdown",
   "metadata": {},
   "source": [
    "10) ¿Se puede mejorar el proceso del punto 9? Utilizar las sentencias break y/ó continue para tal fin"
   ]
  },
  {
   "cell_type": "code",
   "execution_count": 1,
   "metadata": {},
   "outputs": [
    {
     "name": "stdout",
     "output_type": "stream",
     "text": [
      "0\n",
      "1\n",
      "2\n",
      "3\n",
      "5\n",
      "7\n",
      "11\n",
      "13\n",
      "17\n",
      "19\n",
      "23\n",
      "29\n"
     ]
    }
   ],
   "source": [
    "tope_rango=30\n",
    "n = 0\n",
    "primo = True\n",
    "while (n < tope_rango):\n",
    "    for div in range(2, n):\n",
    "        if (n % div == 0):\n",
    "            primo = False\n",
    "            #break\n",
    "    if (primo):\n",
    "        print(n)\n",
    "    else:\n",
    "        primo = True\n",
    "    n += 1"
   ]
  },
  {
   "attachments": {},
   "cell_type": "markdown",
   "metadata": {},
   "source": [
    "11) En los puntos 9 y 10, se diseño un código que encuentra números primos y además se lo optimizó. ¿Es posible saber en qué medida se optimizó?"
   ]
  },
  {
   "cell_type": "code",
   "execution_count": 111,
   "metadata": {},
   "outputs": [
    {
     "name": "stdout",
     "output_type": "stream",
     "text": [
      "0\n",
      "1\n",
      "2\n",
      "3\n",
      "5\n",
      "7\n",
      "11\n",
      "13\n",
      "17\n",
      "19\n",
      "23\n",
      "29\n",
      "cantidad de ciclos; 378\n",
      "0\n",
      "1\n",
      "2\n",
      "3\n",
      "5\n",
      "7\n",
      "11\n",
      "13\n",
      "17\n",
      "19\n",
      "23\n",
      "29\n",
      "Cantidad de ciclos: 134\n",
      "Se optimizó a un 0.3544973544973545% de ciclos aplicando break\n"
     ]
    }
   ],
   "source": [
    "#contando el numero de ciclos y midiendo el tiempo de ejecucion\n",
    "ciclos_sin_break = 0\n",
    "\n",
    "tope_rango=30\n",
    "n = 0\n",
    "primo = True\n",
    "while (n < tope_rango):\n",
    "    for div in range(2, n):\n",
    "        ciclos_sin_break +=1\n",
    "        if (n % div == 0):\n",
    "            primo = False\n",
    "            #break\n",
    "    if (primo):\n",
    "        print(n)\n",
    "    else:\n",
    "        primo = True\n",
    "    n += 1\n",
    "print(\"cantidad de ciclos; \" + str(ciclos_sin_break))\n",
    "\n",
    "ciclos_con_break = 0\n",
    "n = 0\n",
    "primo = True\n",
    "while (n < tope_rango):\n",
    "    for div in range(2, n):\n",
    "        ciclos_con_break += 1\n",
    "        if (n % div == 0):\n",
    "            primo = False\n",
    "            break\n",
    "    if (primo):\n",
    "        print(n)\n",
    "    else:\n",
    "        primo = True\n",
    "    n += 1\n",
    "print('Cantidad de ciclos: ' + str(ciclos_con_break))\n",
    "print('Se optimizó a un ' + str(ciclos_con_break/ciclos_sin_break) + '% de ciclos aplicando break')"
   ]
  },
  {
   "attachments": {},
   "cell_type": "markdown",
   "metadata": {},
   "source": [
    "12) Aplicando continue, armar un ciclo while que solo imprima los valores divisibles por 12, dentro del rango de números de 100 a 300"
   ]
  },
  {
   "cell_type": "code",
   "execution_count": 129,
   "metadata": {},
   "outputs": [
    {
     "name": "stdout",
     "output_type": "stream",
     "text": [
      "300 Es divisible entre 12\n",
      "288 Es divisible entre 12\n",
      "276 Es divisible entre 12\n",
      "264 Es divisible entre 12\n",
      "252 Es divisible entre 12\n",
      "240 Es divisible entre 12\n",
      "228 Es divisible entre 12\n",
      "216 Es divisible entre 12\n",
      "204 Es divisible entre 12\n",
      "192 Es divisible entre 12\n",
      "180 Es divisible entre 12\n",
      "168 Es divisible entre 12\n",
      "156 Es divisible entre 12\n",
      "144 Es divisible entre 12\n",
      "132 Es divisible entre 12\n",
      "120 Es divisible entre 12\n",
      "108 Es divisible entre 12\n"
     ]
    }
   ],
   "source": [
    "a = 301\n",
    "b = 100\n",
    "while (b <= a):\n",
    "    a-=1 \n",
    "    if (a%12 != 0):\n",
    "        continue    \n",
    "    print(a,\"Es divisible entre 12\")\n",
    "    \n",
    "\n",
    "    "
   ]
  },
  {
   "attachments": {},
   "cell_type": "markdown",
   "metadata": {},
   "source": [
    "13) Utilizar la función **input()** que permite hacer ingresos por teclado, para encontrar números primos y dar la opción al usario de buscar el siguiente"
   ]
  },
  {
   "cell_type": "code",
   "execution_count": null,
   "metadata": {},
   "outputs": [],
   "source": [
    "tope_rango = 100\n",
    "n = 0\n",
    "primo = True\n",
    "while (n < tope_rango):\n",
    "    for div in range(2, n):  #recordar que el rango va de (i hasta j-1 donde es (i,j))\n",
    "        print(\"este es n\",n, \"entre div\",div)\n",
    "        if (n % div == 0):\n",
    "            primo = False\n",
    "            break\n",
    "    if (primo):\n",
    "        print(n)\n",
    "        a = input(\"quieres el siguiente primo 1 para si 2 para no: \")\n",
    "        if a != '1':\n",
    "            print(\"se finalizara el proceso\")\n",
    "            break\n",
    "        \n",
    "    else:\n",
    "        primo = True\n",
    "    n += 1\n"
   ]
  },
  {
   "attachments": {},
   "cell_type": "markdown",
   "metadata": {},
   "source": [
    "14) Crear un ciclo while que encuentre dentro del rango de 100 a 300 el primer número divisible por 3 y además múltiplo de 6"
   ]
  },
  {
   "cell_type": "code",
   "execution_count": 18,
   "metadata": {},
   "outputs": [
    {
     "name": "stdout",
     "output_type": "stream",
     "text": [
      "102 es divisible por 3 y es multiplo de 6\n"
     ]
    }
   ],
   "source": [
    "a = 100\n",
    "#print(a%3,a%6)\n",
    "while (a%3 != 0 and a%6!=0):\n",
    "    #print(a%3)\n",
    "    a += 1\n",
    "    #for i in range(100,301):\n",
    "        #continue\n",
    "    if(a%3 == 0 and a%6==0):\n",
    "        print(a, \"es divisible por 3 y es multiplo de 6\")\n",
    "    \n",
    "\n"
   ]
  }
 ],
 "metadata": {
  "interpreter": {
   "hash": "c85384e4cb51c8b72350f3a8712cc8351fdc3955e32a27f9b60c6242ab125f01"
  },
  "kernelspec": {
   "display_name": "Python 3 (ipykernel)",
   "language": "python",
   "name": "python3"
  },
  "language_info": {
   "codemirror_mode": {
    "name": "ipython",
    "version": 3
   },
   "file_extension": ".py",
   "mimetype": "text/x-python",
   "name": "python",
   "nbconvert_exporter": "python",
   "pygments_lexer": "ipython3",
   "version": "3.11.1"
  }
 },
 "nbformat": 4,
 "nbformat_minor": 4
}
