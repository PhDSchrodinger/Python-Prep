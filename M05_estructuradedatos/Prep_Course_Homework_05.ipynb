{
 "cells": [
  {
   "attachments": {},
   "cell_type": "markdown",
   "metadata": {},
   "source": [
    "## Estructuras de Datos"
   ]
  },
  {
   "attachments": {},
   "cell_type": "markdown",
   "metadata": {},
   "source": [
    "1) Crear una lista que contenga nombres de ciudades del mundo que contenga más de 5 elementos e imprimir por pantalla"
   ]
  },
  {
   "cell_type": "code",
   "execution_count": 3,
   "metadata": {},
   "outputs": [
    {
     "name": "stdout",
     "output_type": "stream",
     "text": [
      "['1_Bagdad', '2_NewY', '3_CDMX', '4_SALTILLO', '5_PUEBLA', 'Bogota', 'los angeles']\n"
     ]
    }
   ],
   "source": [
    "ciudades = [\"1_Bagdad\",\"2_NewY\",\"3_CDMX\",\"4_SALTILLO\",\"5_PUEBLA\",\"Bogota\",\"los angeles\"]\n",
    "print(ciudades)"
   ]
  },
  {
   "attachments": {},
   "cell_type": "markdown",
   "metadata": {},
   "source": [
    "2) Imprimir por pantalla el segundo elemento de la lista"
   ]
  },
  {
   "cell_type": "code",
   "execution_count": 4,
   "metadata": {},
   "outputs": [
    {
     "name": "stdout",
     "output_type": "stream",
     "text": [
      "2_NewY\n"
     ]
    }
   ],
   "source": [
    "print(ciudades[1])"
   ]
  },
  {
   "attachments": {},
   "cell_type": "markdown",
   "metadata": {},
   "source": [
    "3) Imprimir por pantalla del segundo al cuarto elemento"
   ]
  },
  {
   "cell_type": "code",
   "execution_count": 5,
   "metadata": {},
   "outputs": [
    {
     "name": "stdout",
     "output_type": "stream",
     "text": [
      "['2_NewY', '3_CDMX', '4_SALTILLO']\n"
     ]
    }
   ],
   "source": [
    "print(ciudades[1:4])"
   ]
  },
  {
   "attachments": {},
   "cell_type": "markdown",
   "metadata": {},
   "source": [
    "4) Visualizar el tipo de dato de la lista"
   ]
  },
  {
   "cell_type": "code",
   "execution_count": 6,
   "metadata": {},
   "outputs": [
    {
     "name": "stdout",
     "output_type": "stream",
     "text": [
      "<class 'list'>\n"
     ]
    }
   ],
   "source": [
    "print(type(ciudades))"
   ]
  },
  {
   "attachments": {},
   "cell_type": "markdown",
   "metadata": {},
   "source": [
    "5) Visualizar todos los elementos de la lista a partir del tercero de manera genérica, es decir, sin explicitar la posición del último elemento"
   ]
  },
  {
   "cell_type": "code",
   "execution_count": 7,
   "metadata": {},
   "outputs": [
    {
     "name": "stdout",
     "output_type": "stream",
     "text": [
      "['3_CDMX', '4_SALTILLO', '5_PUEBLA', 'Bogota', 'los angeles'] esta es la respuesta las siguientes no\n",
      "['3_CDMX', '4_SALTILLO'] ['1_Bagdad', '2_NewY']\n",
      "['1_Bagdad', '2_NewY', '3_CDMX', '4_SALTILLO', '5_PUEBLA']\n"
     ]
    }
   ],
   "source": [
    "print(ciudades[2:] ,\"esta es la respuesta las siguientes no\")\n",
    "print(ciudades[2:4],ciudades[0:2])\n",
    "print(ciudades[:5])"
   ]
  },
  {
   "attachments": {},
   "cell_type": "markdown",
   "metadata": {},
   "source": [
    "6) Visualizar los primeros 4 elementos de la lista"
   ]
  },
  {
   "cell_type": "code",
   "execution_count": 8,
   "metadata": {},
   "outputs": [
    {
     "name": "stdout",
     "output_type": "stream",
     "text": [
      "['1_Bagdad', '2_NewY', '3_CDMX', '4_SALTILLO']\n"
     ]
    }
   ],
   "source": [
    "print(ciudades[:4])"
   ]
  },
  {
   "attachments": {},
   "cell_type": "markdown",
   "metadata": {},
   "source": [
    "7) Agregar una ciudad más a la lista que ya exista y otra que no ¿Arroja algún tipo de error?"
   ]
  },
  {
   "cell_type": "code",
   "execution_count": 9,
   "metadata": {},
   "outputs": [
    {
     "name": "stdout",
     "output_type": "stream",
     "text": [
      "['1_Bagdad', '2_NewY', '3_CDMX', '4_SALTILLO', '5_PUEBLA', 'Bogota', 'los angeles', '3_CDMX', 'Dubai']\n",
      "NO DA HERROR POR DUPLICAR ELEMENTOS\n"
     ]
    }
   ],
   "source": [
    "ciudades.append(\"3_CDMX\")\n",
    "ciudades.append(\"Dubai\")\n",
    "print(ciudades)\n",
    "print(\"NO DA HERROR POR DUPLICAR ELEMENTOS\")"
   ]
  },
  {
   "attachments": {},
   "cell_type": "markdown",
   "metadata": {},
   "source": [
    "8) Agregar otra ciudad, pero en la cuarta posición"
   ]
  },
  {
   "cell_type": "code",
   "execution_count": 10,
   "metadata": {},
   "outputs": [
    {
     "name": "stdout",
     "output_type": "stream",
     "text": [
      "['1_Bagdad', '2_NewY', '3_CDMX', 'PERRROOOOOLANDIAAAAA', '4_SALTILLO', '5_PUEBLA', 'Bogota', 'los angeles', '3_CDMX', 'Dubai']\n"
     ]
    }
   ],
   "source": [
    "ciudades.insert(3,\"PERRROOOOOLANDIAAAAA\")\n",
    "\n",
    "print(ciudades)\n"
   ]
  },
  {
   "attachments": {},
   "cell_type": "markdown",
   "metadata": {},
   "source": [
    "9) Concatenar otra lista a la ya creada"
   ]
  },
  {
   "cell_type": "code",
   "execution_count": 11,
   "metadata": {},
   "outputs": [
    {
     "name": "stdout",
     "output_type": "stream",
     "text": [
      "['1_Bagdad', '2_NewY', '3_CDMX', 'PERRROOOOOLANDIAAAAA', '4_SALTILLO', '5_PUEBLA', 'Bogota', 'los angeles', '3_CDMX', 'Dubai', 'rotandia', 'superperrolandia', 'locochona123']\n"
     ]
    }
   ],
   "source": [
    "ciudades_locas=[\"rotandia\",\"superperrolandia\",\"locochona123\"]\n",
    "ciudades = ciudades + ciudades_locas\n",
    "print(ciudades)"
   ]
  },
  {
   "attachments": {},
   "cell_type": "markdown",
   "metadata": {},
   "source": [
    "10) Encontrar el índice de la ciudad que en el punto 7 agregamos duplicada. ¿Se nota alguna particularidad?"
   ]
  },
  {
   "cell_type": "code",
   "execution_count": 12,
   "metadata": {},
   "outputs": [
    {
     "name": "stdout",
     "output_type": "stream",
     "text": [
      "El indice de la ciudad repetida en el punto 7 es:  2\n",
      "6\n"
     ]
    }
   ],
   "source": [
    "indice = ciudades.index(\"3_CDMX\")\n",
    "indice_2 = ciudades.index(\"Bogota\")\n",
    "print(\"El indice de la ciudad repetida en el punto 7 es: \", indice)\n",
    "print(indice_2)\n",
    "#solo menciona la primera ves que aparece"
   ]
  },
  {
   "attachments": {},
   "cell_type": "markdown",
   "metadata": {},
   "source": [
    "11) ¿Qué pasa si se busca un elemento que no existe?"
   ]
  },
  {
   "cell_type": "code",
   "execution_count": 13,
   "metadata": {},
   "outputs": [
    {
     "ename": "ValueError",
     "evalue": "'Paris' is not in list",
     "output_type": "error",
     "traceback": [
      "\u001b[1;31m---------------------------------------------------------------------------\u001b[0m",
      "\u001b[1;31mValueError\u001b[0m                                Traceback (most recent call last)",
      "Cell \u001b[1;32mIn[13], line 2\u001b[0m\n\u001b[0;32m      1\u001b[0m \u001b[38;5;66;03m#marcara error\u001b[39;00m\n\u001b[1;32m----> 2\u001b[0m \u001b[38;5;28mprint\u001b[39m(\u001b[43mciudades\u001b[49m\u001b[38;5;241;43m.\u001b[39;49m\u001b[43mindex\u001b[49m\u001b[43m(\u001b[49m\u001b[38;5;124;43m'\u001b[39;49m\u001b[38;5;124;43mParis\u001b[39;49m\u001b[38;5;124;43m'\u001b[39;49m\u001b[43m)\u001b[49m)\n",
      "\u001b[1;31mValueError\u001b[0m: 'Paris' is not in list"
     ]
    }
   ],
   "source": [
    "#marcara error\n",
    "print(ciudades.index('Paris'))"
   ]
  },
  {
   "attachments": {},
   "cell_type": "markdown",
   "metadata": {},
   "source": [
    "12) Eliminar un elemento de la lista"
   ]
  },
  {
   "cell_type": "code",
   "execution_count": 14,
   "metadata": {},
   "outputs": [
    {
     "name": "stdout",
     "output_type": "stream",
     "text": [
      "['1_Bagdad', '2_NewY', '3_CDMX', '4_SALTILLO', '5_PUEBLA', 'Bogota', 'los angeles', '3_CDMX', 'Dubai', 'rotandia', 'superperrolandia', 'locochona123']\n"
     ]
    }
   ],
   "source": [
    "ciudades.remove(\"PERRROOOOOLANDIAAAAA\")\n",
    "print(ciudades)"
   ]
  },
  {
   "attachments": {},
   "cell_type": "markdown",
   "metadata": {},
   "source": [
    "13) ¿Qué pasa si el elemento a eliminar no existe?"
   ]
  },
  {
   "cell_type": "code",
   "execution_count": 15,
   "metadata": {},
   "outputs": [
    {
     "ename": "ValueError",
     "evalue": "list.remove(x): x not in list",
     "output_type": "error",
     "traceback": [
      "\u001b[1;31m---------------------------------------------------------------------------\u001b[0m",
      "\u001b[1;31mValueError\u001b[0m                                Traceback (most recent call last)",
      "Cell \u001b[1;32mIn[15], line 2\u001b[0m\n\u001b[0;32m      1\u001b[0m \u001b[38;5;66;03m#marcara error\u001b[39;00m\n\u001b[1;32m----> 2\u001b[0m \u001b[43mciudades\u001b[49m\u001b[38;5;241;43m.\u001b[39;49m\u001b[43mremove\u001b[49m\u001b[43m(\u001b[49m\u001b[38;5;124;43m\"\u001b[39;49m\u001b[38;5;124;43mParis\u001b[39;49m\u001b[38;5;124;43m\"\u001b[39;49m\u001b[43m)\u001b[49m\n\u001b[0;32m      3\u001b[0m \u001b[38;5;28mprint\u001b[39m(\u001b[38;5;124m\"\u001b[39m\u001b[38;5;124mciudades\u001b[39m\u001b[38;5;124m\"\u001b[39m)\n",
      "\u001b[1;31mValueError\u001b[0m: list.remove(x): x not in list"
     ]
    }
   ],
   "source": [
    "#marcara error\n",
    "ciudades.remove(\"Paris\")\n",
    "print(\"ciudades\")"
   ]
  },
  {
   "attachments": {},
   "cell_type": "markdown",
   "metadata": {},
   "source": [
    "14) Extraer el úlimo elemento de la lista, guardarlo en una variable e imprimirlo"
   ]
  },
  {
   "cell_type": "code",
   "execution_count": 16,
   "metadata": {},
   "outputs": [
    {
     "name": "stdout",
     "output_type": "stream",
     "text": [
      "locochona123\n"
     ]
    }
   ],
   "source": [
    "el_ultimo = ciudades.pop()\n",
    "print(el_ultimo)"
   ]
  },
  {
   "attachments": {},
   "cell_type": "markdown",
   "metadata": {},
   "source": [
    "15) Mostrar la lista multiplicada por 4"
   ]
  },
  {
   "cell_type": "code",
   "execution_count": 17,
   "metadata": {},
   "outputs": [
    {
     "name": "stdout",
     "output_type": "stream",
     "text": [
      "['1_Bagdad', '2_NewY', '3_CDMX', '4_SALTILLO', '5_PUEBLA', 'Bogota', 'los angeles', '3_CDMX', 'Dubai', 'rotandia', 'superperrolandia', '1_Bagdad', '2_NewY', '3_CDMX', '4_SALTILLO', '5_PUEBLA', 'Bogota', 'los angeles', '3_CDMX', 'Dubai', 'rotandia', 'superperrolandia', '1_Bagdad', '2_NewY', '3_CDMX', '4_SALTILLO', '5_PUEBLA', 'Bogota', 'los angeles', '3_CDMX', 'Dubai', 'rotandia', 'superperrolandia', '1_Bagdad', '2_NewY', '3_CDMX', '4_SALTILLO', '5_PUEBLA', 'Bogota', 'los angeles', '3_CDMX', 'Dubai', 'rotandia', 'superperrolandia']\n"
     ]
    }
   ],
   "source": [
    "print(ciudades*4)"
   ]
  },
  {
   "attachments": {},
   "cell_type": "markdown",
   "metadata": {},
   "source": [
    "16) Crear una tupla que contenga los números enteros del 1 al 20"
   ]
  },
  {
   "cell_type": "code",
   "execution_count": 18,
   "metadata": {},
   "outputs": [
    {
     "name": "stdout",
     "output_type": "stream",
     "text": [
      "<class 'tuple'> (1, 2, 3, 4, 5, 6, 8, 9, 10, 11, 12, 13, 14, 15, 16, 18, 19, 20)\n"
     ]
    }
   ],
   "source": [
    "la_tupla = (1,2,3,4,5,6,8,9,10,11,12,13,14,15,16,18,19,20)\n",
    "print(type(la_tupla), la_tupla)\n",
    "#para la otra crearla sin escribirlos usar un bucle"
   ]
  },
  {
   "attachments": {},
   "cell_type": "markdown",
   "metadata": {},
   "source": [
    "17) Imprimir desde el índice 10 al 15 de la tupla"
   ]
  },
  {
   "cell_type": "code",
   "execution_count": 19,
   "metadata": {},
   "outputs": [
    {
     "name": "stdout",
     "output_type": "stream",
     "text": [
      "(11, 12, 13, 14, 15, 16)\n"
     ]
    }
   ],
   "source": [
    "print(la_tupla[9:15])"
   ]
  },
  {
   "attachments": {},
   "cell_type": "markdown",
   "metadata": {},
   "source": [
    "18) Evaluar si los números 20 y 30 están dentro de la tupla"
   ]
  },
  {
   "cell_type": "code",
   "execution_count": 20,
   "metadata": {},
   "outputs": [
    {
     "name": "stdout",
     "output_type": "stream",
     "text": [
      "17\n",
      "True\n",
      "False\n"
     ]
    }
   ],
   "source": [
    "print(la_tupla.index(20))\n",
    "print(20 in la_tupla)\n",
    "print(30 in la_tupla)\n",
    "#print(la_tupla.index(30))\n"
   ]
  },
  {
   "attachments": {},
   "cell_type": "markdown",
   "metadata": {},
   "source": [
    "19) Con la lista creada en el punto 1, validar la existencia del elemento 'París' y si no existe, agregarlo. Utilizar una variable e informar lo sucedido."
   ]
  },
  {
   "cell_type": "code",
   "execution_count": 22,
   "metadata": {},
   "outputs": [
    {
     "name": "stdout",
     "output_type": "stream",
     "text": [
      "hemos gregado Paris usando la variable  kk\n",
      "['1_Bagdad', '2_NewY', '3_CDMX', '4_SALTILLO', '5_PUEBLA', 'Bogota', 'los angeles', '3_CDMX', 'Dubai', 'rotandia', 'superperrolandia', 'Paris', 'Paris']\n"
     ]
    }
   ],
   "source": [
    "kk = \"Paris\"\n",
    "if 'kk' in ciudades:\n",
    "    print(\"Paris esta en la lista ciudades\")\n",
    "else: \n",
    "    ciudades.append(kk)\n",
    "    print(\"hemos gregado Paris usando la variable  kk\")\n",
    "print(ciudades)"
   ]
  },
  {
   "attachments": {},
   "cell_type": "markdown",
   "metadata": {},
   "source": [
    "20) Mostrar la cantidad de veces que se encuentra un elemento específico dentro de la tupla y de la lista"
   ]
  },
  {
   "cell_type": "code",
   "execution_count": 23,
   "metadata": {},
   "outputs": [
    {
     "name": "stdout",
     "output_type": "stream",
     "text": [
      "Paris aparece 2 veces en la lista.\n",
      "El número 2 aparece 1 veces en la tupla.\n"
     ]
    }
   ],
   "source": [
    "# Contar cuántas veces aparece la ciudad \"Paris\"\n",
    "ciudades_contar = ciudades.count(\"Paris\")\n",
    "print(\"Paris aparece\", ciudades_contar, \"veces en la lista.\")\n",
    "\n",
    "# Contar cuántas veces aparece el número 2 en la tupla\n",
    "ocurrencias = la_tupla.count(2)\n",
    "print(\"El número 2 aparece\", ocurrencias, \"veces en la tupla.\")\n",
    "\n"
   ]
  },
  {
   "attachments": {},
   "cell_type": "markdown",
   "metadata": {},
   "source": [
    "21) Convertir la tupla en una lista"
   ]
  },
  {
   "cell_type": "code",
   "execution_count": 24,
   "metadata": {},
   "outputs": [
    {
     "name": "stdout",
     "output_type": "stream",
     "text": [
      "(1, 2, 3, 4, 5, 6, 8, 9, 10, 11, 12, 13, 14, 15, 16, 18, 19, 20)\n",
      "[1, 2, 3, 4, 5, 6, 8, 9, 10, 11, 12, 13, 14, 15, 16, 18, 19, 20]\n"
     ]
    }
   ],
   "source": [
    "a_lista = list(la_tupla)\n",
    "print(la_tupla)\n",
    "print(a_lista)"
   ]
  },
  {
   "attachments": {},
   "cell_type": "markdown",
   "metadata": {},
   "source": [
    "22) Desempaquetar solo los primeros 3 elementos de la tupla en 3 variables"
   ]
  },
  {
   "cell_type": "code",
   "execution_count": 25,
   "metadata": {},
   "outputs": [
    {
     "name": "stdout",
     "output_type": "stream",
     "text": [
      "a: 1 b: 2 c: 3\n"
     ]
    }
   ],
   "source": [
    "a, b, c,*resto = la_tupla\n",
    "print(\"a:\" , a , \"b:\" , b, \"c:\",c)"
   ]
  },
  {
   "attachments": {},
   "cell_type": "markdown",
   "metadata": {},
   "source": [
    "23) Crear un diccionario utilizando la lista crada en el punto 1, asignandole la clave \"ciudad\". Agregar tambien otras claves, como puede ser \"Pais\" y \"Continente\"."
   ]
  },
  {
   "cell_type": "code",
   "execution_count": 26,
   "metadata": {},
   "outputs": [
    {
     "name": "stdout",
     "output_type": "stream",
     "text": [
      "{'ciudad': '1_Bagdad', 'pais': '2_NewY', 'Continente': '3_CDMX', 'ciudad_2': '4_SALTILLO', 'ciudad:3': '5_PUEBLA', 'ciudad_4': 'Bogota'}\n",
      "{'ciudad': ['1_Bagdad', '2_NewY', '3_CDMX', '4_SALTILLO', '5_PUEBLA', 'Bogota', 'los angeles', '3_CDMX', 'Dubai', 'rotandia', 'superperrolandia', 'Paris', 'Paris'], 'Pais': ['Mexico', 'Andorra', 'Brasil'], 'Continente': ['america', 'Europa']}\n"
     ]
    }
   ],
   "source": [
    "claves = [\"ciudad\", \"pais\", \"Continente\", \"ciudad_2\",\"ciudad:3\",\"ciudad_4\"]\n",
    "diccionario = dict(zip(claves,ciudades))\n",
    "diccionario2 = {\"ciudad\":ciudades, \"Pais\": ['Mexico',\"Andorra\",\"Brasil\"], \"Continente\":[\"america\",\"Europa\"]}\n",
    "print(diccionario)\n",
    "print(diccionario2)"
   ]
  },
  {
   "attachments": {},
   "cell_type": "markdown",
   "metadata": {},
   "source": [
    "24) Imprimir las claves del diccionario"
   ]
  },
  {
   "cell_type": "code",
   "execution_count": 27,
   "metadata": {},
   "outputs": [
    {
     "name": "stdout",
     "output_type": "stream",
     "text": [
      "ciudad\n",
      "pais\n",
      "Continente\n",
      "ciudad_2\n",
      "ciudad:3\n",
      "ciudad_4\n",
      "['ciudad', 'pais', 'Continente', 'ciudad_2', 'ciudad:3', 'ciudad_4']\n"
     ]
    }
   ],
   "source": [
    "for clave in diccionario.keys():\n",
    "    print(clave)\n",
    "clave2 = list(diccionario.keys())\n",
    "print(clave2)"
   ]
  },
  {
   "attachments": {},
   "cell_type": "markdown",
   "metadata": {},
   "source": [
    "25) Imprimir las ciudades a través de su clave"
   ]
  },
  {
   "cell_type": "code",
   "execution_count": 28,
   "metadata": {},
   "outputs": [
    {
     "name": "stdout",
     "output_type": "stream",
     "text": [
      "['1_Bagdad', '2_NewY', '3_CDMX', '4_SALTILLO', '5_PUEBLA', 'Bogota', 'los angeles', '3_CDMX', 'Dubai', 'rotandia', 'superperrolandia', 'Paris', 'Paris']\n"
     ]
    }
   ],
   "source": [
    "print(diccionario2[\"ciudad\"])"
   ]
  }
 ],
 "metadata": {
  "interpreter": {
   "hash": "c85384e4cb51c8b72350f3a8712cc8351fdc3955e32a27f9b60c6242ab125f01"
  },
  "kernelspec": {
   "display_name": "Python 3 (ipykernel)",
   "language": "python",
   "name": "python3"
  },
  "language_info": {
   "codemirror_mode": {
    "name": "ipython",
    "version": 3
   },
   "file_extension": ".py",
   "mimetype": "text/x-python",
   "name": "python",
   "nbconvert_exporter": "python",
   "pygments_lexer": "ipython3",
   "version": "3.11.1"
  }
 },
 "nbformat": 4,
 "nbformat_minor": 4
}
