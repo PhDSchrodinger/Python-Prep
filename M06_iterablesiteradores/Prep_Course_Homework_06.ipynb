{
 "cells": [
  {
   "attachments": {},
   "cell_type": "markdown",
   "metadata": {},
   "source": [
    "## Iteradores e iterables"
   ]
  },
  {
   "attachments": {},
   "cell_type": "markdown",
   "metadata": {},
   "source": [
    "1) A partir de una lista vacía, utilizar un ciclo while para cargar allí números negativos del -15 al -1"
   ]
  },
  {
   "cell_type": "code",
   "execution_count": 2,
   "metadata": {},
   "outputs": [
    {
     "name": "stdout",
     "output_type": "stream",
     "text": [
      "[-15, -14, -13, -12, -11, -10, -9, -8, -7, -6, -5, -4, -3, -2, -1]\n"
     ]
    }
   ],
   "source": [
    "lista = []\n",
    "a = -15\n",
    "while a <= -1:\n",
    "    lista.append(a)\n",
    "    a += 1\n",
    "print(lista)"
   ]
  },
  {
   "attachments": {},
   "cell_type": "markdown",
   "metadata": {},
   "source": [
    "2) ¿Con un ciclo while sería posible recorrer la lista para imprimir sólo los números pares?"
   ]
  },
  {
   "cell_type": "code",
   "execution_count": 5,
   "metadata": {},
   "outputs": [
    {
     "name": "stdout",
     "output_type": "stream",
     "text": [
      "-2\n",
      "-4\n",
      "-6\n",
      "-8\n",
      "-10\n",
      "-12\n",
      "-14\n"
     ]
    }
   ],
   "source": [
    "elem = len(lista)\n",
    "\n",
    "while elem != 0:\n",
    "    elem -= 1\n",
    "    if (lista[elem]%2==0):\n",
    "        print(lista[elem])\n",
    "        "
   ]
  },
  {
   "attachments": {},
   "cell_type": "markdown",
   "metadata": {},
   "source": [
    "3) Resolver el punto anterior sin utilizar un ciclo while"
   ]
  },
  {
   "cell_type": "code",
   "execution_count": 11,
   "metadata": {},
   "outputs": [
    {
     "name": "stdout",
     "output_type": "stream",
     "text": [
      "-14\n",
      "-12\n",
      "-10\n",
      "-8\n",
      "-6\n",
      "-4\n",
      "-2\n"
     ]
    }
   ],
   "source": [
    "for i in lista:\n",
    "    #print(type(lista[i]),lista[i])\n",
    "    if (lista[i]%2==0):\n",
    "        print(lista[i])\n",
    "    "
   ]
  },
  {
   "attachments": {},
   "cell_type": "markdown",
   "metadata": {},
   "source": [
    "4) Utilizar el iterable para recorrer sólo los primeros 3 elementos"
   ]
  },
  {
   "cell_type": "code",
   "execution_count": 13,
   "metadata": {},
   "outputs": [
    {
     "name": "stdout",
     "output_type": "stream",
     "text": [
      "[-15, -14, -13]\n",
      "-15\n",
      "-14\n",
      "-13\n"
     ]
    }
   ],
   "source": [
    "print(lista[:3])\n",
    "for i in lista[:3]:\n",
    "    print(lista[i])"
   ]
  },
  {
   "attachments": {},
   "cell_type": "markdown",
   "metadata": {},
   "source": [
    "5) Utilizar la función **enumerate** para obtener dentro del iterable, tambien el índice al que corresponde el elemento"
   ]
  },
  {
   "cell_type": "code",
   "execution_count": 14,
   "metadata": {},
   "outputs": [
    {
     "name": "stdout",
     "output_type": "stream",
     "text": [
      "0 -15\n",
      "1 -14\n",
      "2 -13\n",
      "3 -12\n",
      "4 -11\n",
      "5 -10\n",
      "6 -9\n",
      "7 -8\n",
      "8 -7\n",
      "9 -6\n",
      "10 -5\n",
      "11 -4\n",
      "12 -3\n",
      "13 -2\n",
      "14 -1\n"
     ]
    }
   ],
   "source": [
    "for indice, numero in enumerate(lista):\n",
    "    print(indice,numero)\n",
    "#print()"
   ]
  },
  {
   "attachments": {},
   "cell_type": "markdown",
   "metadata": {},
   "source": [
    "6) Dada la siguiente lista de números enteros entre 1 y 20, crear un ciclo donde se completen los valores faltantes: lista = [1,2,5,7,8,10,13,14,15,17,20]"
   ]
  },
  {
   "cell_type": "code",
   "execution_count": 77,
   "metadata": {},
   "outputs": [
    {
     "name": "stdout",
     "output_type": "stream",
     "text": [
      "{1, 2, 3, 4, 5, 6, 7, 8, 9, 10, 11, 12, 13, 14, 15, 16, 17, 18, 19, 20}\n"
     ]
    }
   ],
   "source": [
    "list = [1,2,5,7,8,10,13,14,15,17,20]\n",
    "list2=[]\n",
    "for j in range(1,21):\n",
    "    list2.append(j)\n",
    "con_list = set(lista)\n",
    "con_list2 = set(list2)\n",
    "list3 = con_list2.difference(con_list)\n",
    "list.extend(list3)\n",
    "list = list3\n",
    "print(list)\n"
   ]
  },
  {
   "attachments": {},
   "cell_type": "markdown",
   "metadata": {},
   "source": [
    "7) La sucesión de Fibonacci es un listado de números que sigue la fórmula: <br>\n",
    "n<sub>0</sub> = 0<br>\n",
    "n<sub>1</sub> = 1<br>\n",
    "n<sub>i</sub> = n<sub>i-1</sub> + n<sub>i-2</sub><br>\n",
    "Crear una lista con los primeros treinta números de la sucesión.<br>"
   ]
  },
  {
   "cell_type": "code",
   "execution_count": 83,
   "metadata": {},
   "outputs": [
    {
     "name": "stdout",
     "output_type": "stream",
     "text": [
      "0\n",
      "1\n",
      "[0, 1, 1, 2, 3, 5, 8, 13, 21, 34, 55, 89, 144, 233, 377, 610, 987, 1597, 2584, 4181, 6765, 10946, 17711, 28657, 46368, 75025, 121393, 196418, 317811, 514229]\n"
     ]
    }
   ],
   "source": [
    "n0=0\n",
    "n1=1\n",
    "fib=[n0,n1]\n",
    "print(0)\n",
    "print(1)\n",
    "i= 2\n",
    "while i < 30:\n",
    "    fib.append(fib[i-1] + fib[i-2])\n",
    "    i += 1 \n",
    "print(fib)"
   ]
  },
  {
   "attachments": {},
   "cell_type": "markdown",
   "metadata": {},
   "source": [
    "8) Realizar la suma de todos elementos de la lista del punto anterior"
   ]
  },
  {
   "cell_type": "code",
   "execution_count": 84,
   "metadata": {},
   "outputs": [
    {
     "data": {
      "text/plain": [
       "1346268"
      ]
     },
     "execution_count": 84,
     "metadata": {},
     "output_type": "execute_result"
    }
   ],
   "source": [
    "sum(fib)"
   ]
  },
  {
   "attachments": {},
   "cell_type": "markdown",
   "metadata": {},
   "source": [
    "9) La proporción aurea se expresa con una proporción matemática que nace el número irracional Phi= 1,618… que los griegos llamaron número áureo. El cuál se puede aproximar con la sucesión de Fibonacci. Con la lista del ejercicio anterior, imprimir el cociente de los últimos 5 pares de dos números contiguos:<br>\n",
    "Donde i es la cantidad total de elementos<br>\n",
    "n<sub>i-1</sub> / n<sub>i</sub><br>\n",
    "n<sub>i-2</sub> / n<sub>i-1</sub><br>\n",
    "n<sub>i-3</sub> / n<sub>i-2</sub><br>\n",
    "n<sub>i-4</sub> / n<sub>i-3</sub><br>\n",
    "n<sub>i-5</sub> / n<sub>i-4</sub><br>\n",
    " "
   ]
  },
  {
   "cell_type": "code",
   "execution_count": null,
   "metadata": {},
   "outputs": [],
   "source": []
  },
  {
   "attachments": {},
   "cell_type": "markdown",
   "metadata": {},
   "source": [
    "10) A partir de la variable cadena ya dada, mostrar en qué posiciones aparece la letra \"n\"<br>\n",
    "cadena = 'Hola Mundo. Esto es una practica del lenguaje de programación Python'"
   ]
  },
  {
   "cell_type": "code",
   "execution_count": 4,
   "metadata": {},
   "outputs": [
    {
     "name": "stdout",
     "output_type": "stream",
     "text": [
      "La letra 'n' aparece en las siguientes posicciones: [7, 21, 39, 60, 67]\n"
     ]
    }
   ],
   "source": [
    "cadena = 'Hola mundo. Esto es una practica del lenguaje de programación Python'\n",
    "letra_que_buscar = \"n\"\n",
    "posiciones = []\n",
    "for i, caracter in enumerate(cadena):\n",
    "    if caracter == letra_que_buscar:\n",
    "        posiciones.append(i)\n",
    "print(f\"La letra '{letra_que_buscar}' aparece en las siguientes posicciones: {posiciones}\")"
   ]
  },
  {
   "attachments": {},
   "cell_type": "markdown",
   "metadata": {},
   "source": [
    "11) Crear un diccionario e imprimir sus claves utilizando un iterador"
   ]
  },
  {
   "cell_type": "code",
   "execution_count": 9,
   "metadata": {},
   "outputs": [
    {
     "name": "stdout",
     "output_type": "stream",
     "text": [
      "claves del diccionario:\n",
      "Emprendimiento\n",
      "Plan de Negocio\n",
      "Innovación\n",
      "Financiamiento\n",
      "Marketing\n",
      "Networking\n",
      "MVP (Producto Mínimo Viable)\n",
      "Estrategia de Crecimiento\n",
      "Resiliencia\n",
      "Éxito\n",
      "Tareas\n",
      "Tipos\n"
     ]
    }
   ],
   "source": [
    "emprendedor = {\n",
    "    \"Emprendimiento\": \"Iniciar un negocio o empresa\",\n",
    "    \"Plan de Negocio\": \"Objetivos, estrategias, estructura organizativa, y proyecciones financieras.\",\n",
    "    \"Innovación\": \"Introducción de nuevas ideas,  que agregan valor y generan ventajas competitivas.\",\n",
    "    \"Financiamiento\": \"Los recursos financieros necesarios para iniciar o expandir un negocio, que pueden provenir de inversionistas, préstamos bancarios, subvenciones, entre otros.\",\n",
    "    \"Marketing\": \"El conjunto de técnicas y estrategias utilizadas para promocionar y vender productos o servicios, incluyendo publicidad, relaciones públicas, y análisis de mercado.\",\n",
    "    \"Networking\": \"La práctica de establecer y mantener relaciones profesionales con otras personas y empresas, con el fin de obtener apoyo, colaboraciones, y oportunidades de negocio.\",\n",
    "    \"MVP (Producto Mínimo Viable)\": \"La versión más básica de un producto o servicio que contiene solo las características esenciales para satisfacer las necesidades de los primeros usuarios, permitiendo obtener retroalimentación y validar la idea con un mínimo esfuerzo.\",\n",
    "    \"Estrategia de Crecimiento\": \"El plan para expandir y desarrollar un negocio, que puede incluir la entrada en nuevos mercados, desarrollo de nuevos productos, o adquisiciones.\",\n",
    "    \"Resiliencia\": \"La capacidad de adaptarse y recuperarse frente a los desafíos, fracasos y adversidades que se presentan durante el proceso emprendedor.\",\n",
    "    \"Éxito\": \"El logro de los objetivos y metas establecidos, que puede medirse en términos de beneficios financieros, impacto social, reconocimiento, entre otros.\",\n",
    "    \"Tareas\" : ['Esorzarse','Nuevas ideas', 'busqueda de cliente', 'validar'],\n",
    "    \"Tipos\": [ 'digital', 'eempresarial', 'desarrollo', 'social']\n",
    "}\n",
    "claves = emprendedor.keys() #accediendo a las clavees del diccionario, .keys() devuelve un objeto \n",
    "#                                tipo dict.keys que es iterable y contien las claves del diccionario\n",
    "print(\"claves del diccionario:\")   # imprimiendo las claves\n",
    "for clave in claves:\n",
    "    print(clave)\n"
   ]
  },
  {
   "attachments": {},
   "cell_type": "markdown",
   "metadata": {},
   "source": [
    "12) Convertir en una lista la variable \"cadena\" del punto 10 y luego recorrerla con un iterador "
   ]
  },
  {
   "cell_type": "code",
   "execution_count": 10,
   "metadata": {},
   "outputs": [
    {
     "name": "stdout",
     "output_type": "stream",
     "text": [
      "Hola\n",
      "mundo.\n",
      "Esto\n",
      "es\n",
      "una\n",
      "practica\n",
      "del\n",
      "lenguaje\n",
      "de\n",
      "programación\n",
      "Python\n"
     ]
    }
   ],
   "source": [
    "#Tomando la variable del punto 10 que es un texto la convierto en una lista usando el espacio como delimitador\n",
    "lista_cadena = cadena.split() #el limitador va en los parentesis, es para decir cuando sera un nuevo elemento\n",
    "# de la lista\n",
    "for i in lista_cadena:\n",
    "    print(i)\n",
    "cadena2 = \"Hola, a todos estamos probando que show\"\n",
    "cadena2 = list(cadena2)"
   ]
  },
  {
   "attachments": {},
   "cell_type": "markdown",
   "metadata": {},
   "source": [
    "13) Crear dos listas y unirlas en una tupla utilizando la función zip"
   ]
  },
  {
   "cell_type": "code",
   "execution_count": 4,
   "metadata": {},
   "outputs": [
    {
     "name": "stdout",
     "output_type": "stream",
     "text": [
      "<class 'zip'>\n",
      "[('a', 1), ('b', 2), ('c', 3), ('d', 4), ('e', 5), ('f', 6)]\n"
     ]
    }
   ],
   "source": [
    "casa=['a','b','c','d','e','f']\n",
    "roca=[1,2,3,4,5,6]\n",
    "combinacion = zip(casa,roca)\n",
    "print(type(combinacion))\n",
    "print(list(combinacion)) # Convierte combinacion en una lista y la imprime\n"
   ]
  },
  {
   "attachments": {},
   "cell_type": "markdown",
   "metadata": {},
   "source": [
    "14) A partir de la siguiente lista de números, crear una nueva sólo si el número es divisible por 7<br>\n",
    "lis = [18,21,29,32,35,42,56,60,63,71,84,90,91,100]"
   ]
  },
  {
   "cell_type": "code",
   "execution_count": 6,
   "metadata": {},
   "outputs": [
    {
     "name": "stdout",
     "output_type": "stream",
     "text": [
      "[21, 35, 42, 56, 63, 84, 91]\n"
     ]
    }
   ],
   "source": [
    "lis = [18,21,29,32,35,42,56,60,63,71,84,90,91,100]\n",
    "nueva=[x/7 for x in lis if x%7 == 0]\n",
    "print(nueva)"
   ]
  },
  {
   "attachments": {},
   "cell_type": "markdown",
   "metadata": {},
   "source": [
    "15) A partir de la lista de a continuación, contar la cantidad total de elementos que contiene, teniendo en cuenta que un elemento de la lista podría ser otra lista:<br>\n",
    "lis = [[1,2,3,4],'rojo','verde',[True,False,False],['uno','dos','tres']]"
   ]
  },
  {
   "cell_type": "code",
   "execution_count": 38,
   "metadata": {},
   "outputs": [
    {
     "name": "stdout",
     "output_type": "stream",
     "text": [
      "5 en lis2\n",
      "Numero de elementos letra por letra 19\n",
      "<class 'list'>\n",
      "este es el contador de elemento idividuales 12\n"
     ]
    }
   ],
   "source": [
    "lis2 = [[1,2,3,4],'rojo','verde',[True,False,False],['uno','dos','tres']]\n",
    "Nelementos = len(lis2)\n",
    "print(Nelementos,'en lis2')\n",
    "a = 0\n",
    "for elemento in lis2:\n",
    "    b = len(elemento)\n",
    "    a += b\n",
    "print(\"Numero de elementos letra por letra\", a)\n",
    "c=0\n",
    "print(type(lis2))\n",
    "for elemento in lis2:  #iteración sobre cada elemento de la lista 'lis2'\n",
    "    if type(elemento)==list: #verifica si el elemento es una lista\n",
    "        c += len(elemento)\n",
    "    else:\n",
    "        c += 1\n",
    "print(\"este es el contador de elemento idividuales\", c)\n",
    "\n",
    "#print(elementos)"
   ]
  },
  {
   "cell_type": "markdown",
   "metadata": {},
   "source": []
  },
  {
   "attachments": {},
   "cell_type": "markdown",
   "metadata": {},
   "source": [
    "16) Tomar la lista del punto anterior y convertir cada elemento en una lista si no lo es"
   ]
  },
  {
   "cell_type": "code",
   "execution_count": 93,
   "metadata": {},
   "outputs": [
    {
     "name": "stdout",
     "output_type": "stream",
     "text": [
      "variable_1\n",
      "rojo __imprimiendo las nuevas listas\n",
      "variable_2\n",
      "verde __imprimiendo las nuevas listas\n",
      "[[1, 2, 3, 4], ['rojo'], ['verde'], [True, False, False], ['uno', 'dos', 'tres']]\n"
     ]
    }
   ],
   "source": [
    "lis2 = [[1,2,3,4],'rojo','verde',[True,False,False],['uno','dos','tres']]\n",
    "c=0\n",
    "i = 0\n",
    "lis3 = []\n",
    "lista ={}\n",
    "for indice, elemento in enumerate(lis2):\n",
    "    if type(elemento)!=list:\n",
    "        c += len(elemento) \n",
    "        lista[f\"variable_{i}\"]=elemento\n",
    "        i += 1\n",
    "        lis2[indice]=[elemento]\n",
    "        print(f\"variable_{i}\")\n",
    "        print(lista[f'variable_{i-1}'],\"__imprimiendo las nuevas listas\")\n",
    "        \n",
    "    else:\n",
    "        c += 1\n",
    "print(lis2)\n",
    "#print(lis3)\n",
    "#print(lista[\"variable_0\"])\n",
    "    "
   ]
  },
  {
   "cell_type": "code",
   "execution_count": 94,
   "metadata": {},
   "outputs": [
    {
     "name": "stdout",
     "output_type": "stream",
     "text": [
      "{1, 2}\n"
     ]
    }
   ],
   "source": [
    "set1 = {1,2,3}\n",
    "set2 = {3,4,5}\n",
    "print(set1-set2)"
   ]
  }
 ],
 "metadata": {
  "interpreter": {
   "hash": "c85384e4cb51c8b72350f3a8712cc8351fdc3955e32a27f9b60c6242ab125f01"
  },
  "kernelspec": {
   "display_name": "Python 3 (ipykernel)",
   "language": "python",
   "name": "python3"
  },
  "language_info": {
   "codemirror_mode": {
    "name": "ipython",
    "version": 3
   },
   "file_extension": ".py",
   "mimetype": "text/x-python",
   "name": "python",
   "nbconvert_exporter": "python",
   "pygments_lexer": "ipython3",
   "version": "3.11.1"
  }
 },
 "nbformat": 4,
 "nbformat_minor": 4
}
