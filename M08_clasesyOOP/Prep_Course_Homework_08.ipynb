{
 "cells": [
  {
   "attachments": {},
   "cell_type": "markdown",
   "metadata": {},
   "source": [
    "## Clases y Programación Orientada a Objetos"
   ]
  },
  {
   "attachments": {},
   "cell_type": "markdown",
   "metadata": {},
   "source": [
    "1) Crear la clase vehículo que contenga los atributos:<br>\n",
    "Color<br>\n",
    "Si es moto, auto, camioneta ó camión<br>\n",
    "Cilindrada del motor"
   ]
  },
  {
   "cell_type": "code",
   "execution_count": 2,
   "metadata": {},
   "outputs": [],
   "source": [
    "class Vehiculo:\n",
    "    def __init__(self,color,tipo_vehiculo,cilindrada):\n",
    "        self.color = color\n",
    "        self.tipo_vehiculo = tipo_vehiculo\n",
    "        self.cilindrada = cilindrada"
   ]
  },
  {
   "attachments": {},
   "cell_type": "markdown",
   "metadata": {},
   "source": [
    "2) A la clase Vehiculo creada en el punto 1, agregar los siguientes métodos:<br>\n",
    "Acelerar<br>\n",
    "Frenar<br>\n",
    "Doblar<br>"
   ]
  },
  {
   "cell_type": "code",
   "execution_count": 14,
   "metadata": {},
   "outputs": [],
   "source": [
    "class Vehiculo:\n",
    "    def __init__(self,color,tipo_vehiculo,cilindrada):\n",
    "        self.color = color\n",
    "        self.tipo_vehiculo = tipo_vehiculo  #auto/camioneta/moto/camion\n",
    "        self.cilindrada = cilindrada   #del motor\n",
    "        self.velocidad = 0\n",
    "        self.direccion = 0\n",
    "\n",
    "    def Acelerar(self, vel):    # El metodo es la función en la cual ponemos los comandos para una acción\n",
    "        self.velocidad += vel  #Método Acelerar recibe parámetro \"vel\" que representa la velocidad a aumentar.\n",
    "\n",
    "    def Frenar(self, vel):  # Método Frenar recibe un parámetro \"vel\" que representa la velocidad a disminuir.\n",
    "        self.velocidad -= vel # Disminuye velocidad actual del vehículo restando el valor de \"vel\" al atributo \"velocidad\".\n",
    "    \n",
    "    def Doblar(self, grados): # Método Doblar recibe parámetro \"grados\", representa los grados para girar.\n",
    "        self.direccion += grados\n",
    "    def Estado(self):\n",
    "        return print(\"Velocidad: \", self.velocidad,\"Dirección: \",self.direccion)\n",
    "    def Presentar(self):\n",
    "        return print(\"Color: \", self.color ,\"Tipo: \", self.tipo_vehiculo , \"Cilindrada: \", self.cilindrada)\n"
   ]
  },
  {
   "attachments": {},
   "cell_type": "markdown",
   "metadata": {},
   "source": [
    "3) Instanciar 3 objetos de la clase vehículo y ejecutar sus métodos, probar luego el resultado"
   ]
  },
  {
   "cell_type": "code",
   "execution_count": 18,
   "metadata": {},
   "outputs": [],
   "source": [
    "prius  = Vehiculo(\"rojo\",\"auto\",1.4) # Creación de un objeto \"Vehiculo\" con color rojo, tipo auto y cilindrada 1.4.\n",
    "golf   = Vehiculo(\"gris\",\"auto\", 1.4)   # Creación de un objeto \"Vehiculo\" con color gris, tipo camioneta y cilindrada 1.4\n",
    "ertiga = Vehiculo(\"café\", \"camioneta\", 1.4)  # Creación de un objeto \"Vehiculo\" con color café, tipo moto y cilindrada 1.4\n",
    "\n",
    "prius.Acelerar(10)\n",
    "golf.Frenar(30)\n",
    "ertiga.Doblar(45)\n",
    "prius.Acelerar(30)\n",
    "prius.Frenar(20)\n",
    "prius.Doblar(45)"
   ]
  },
  {
   "attachments": {},
   "cell_type": "markdown",
   "metadata": {},
   "source": [
    "4) Agregar a la clase Vehiculo, un método que muestre su estado, es decir, a que velocidad se encuentra y su dirección. Y otro método que muestre color, tipo y cilindrada"
   ]
  },
  {
   "cell_type": "code",
   "execution_count": 19,
   "metadata": {},
   "outputs": [
    {
     "name": "stdout",
     "output_type": "stream",
     "text": [
      "Velocidad:  20 Dirección:  45\n",
      "Color:  rojo Tipo:  auto Cilindrada:  1.4\n",
      "Velocidad:  0 Dirección:  45\n",
      "Color:  café Tipo:  camioneta Cilindrada:  1.4\n"
     ]
    }
   ],
   "source": [
    "prius.Estado()     #La solución o el codigo estra esta en el punto 2\n",
    "ertiga.Estado()\n",
    "ertiga.Presentar()"
   ]
  },
  {
   "attachments": {},
   "cell_type": "markdown",
   "metadata": {},
   "source": [
    "5) Crear una clase que permita utilizar las funciones creadas en la práctica del módulo 7<br>\n",
    "Verificar Primo<br>\n",
    "Valor modal<br>\n",
    "Conversión grados<br>\n",
    "Factorial<br>"
   ]
  },
  {
   "cell_type": "code",
   "execution_count": null,
   "metadata": {},
   "outputs": [],
   "source": [
    "class Vehiculo:\n",
    "    def __init__(self,color,tipo_vehiculo,cilindrada):\n",
    "        self.color = color\n",
    "        self.tipo_vehiculo = tipo_vehiculo  #auto/camioneta/moto/camion\n",
    "        self.cilindrada = cilindrada   #del motor\n",
    "        self.velocidad = 0\n",
    "        self.direccion = 0\n",
    "\n",
    "    def Acelerar(self, vel):    # El metodo es la función en la cual ponemos los comandos para una acción\n",
    "        self.velocidad += vel  #Método Acelerar recibe parámetro \"vel\" que representa la velocidad a aumentar.\n",
    "\n",
    "    def Frenar(self, vel):  # Método Frenar recibe un parámetro \"vel\" que representa la velocidad a disminuir.\n",
    "        self.velocidad -= vel # Disminuye velocidad actual del vehículo restando el valor de \"vel\" al atributo \"velocidad\".\n",
    "    \n",
    "    def Doblar(self, grados): # Método Doblar recibe parámetro \"grados\", representa los grados para girar.\n",
    "        self.direccion += grados\n",
    "    def Estado(self):\n",
    "        return print(\"Velocidad: \", self.velocidad,\"Dirección: \",self.direccion)\n",
    "    def Presentar(self):\n",
    "        return print(\"Color: \", self.color ,\"Tipo: \", self.tipo_vehiculo , \"Cilindrada: \", self.cilindrada)\n"
   ]
  },
  {
   "attachments": {},
   "cell_type": "markdown",
   "metadata": {},
   "source": [
    "6) Probar las funciones incorporadas en la clase del punto 5"
   ]
  },
  {
   "cell_type": "code",
   "execution_count": null,
   "metadata": {},
   "outputs": [],
   "source": []
  },
  {
   "attachments": {},
   "cell_type": "markdown",
   "metadata": {},
   "source": [
    "7) Es necesario que la clase creada en el punto 5 contenga una lista, sobre la cual se apliquen las funciones incorporadas"
   ]
  },
  {
   "cell_type": "code",
   "execution_count": null,
   "metadata": {},
   "outputs": [],
   "source": []
  },
  {
   "attachments": {},
   "cell_type": "markdown",
   "metadata": {},
   "source": [
    "8) Crear un archivo .py aparte y ubicar allí la clase generada en el punto anterior. Luego realizar la importación del módulo y probar alguna de sus funciones"
   ]
  },
  {
   "cell_type": "code",
   "execution_count": null,
   "metadata": {},
   "outputs": [],
   "source": []
  }
 ],
 "metadata": {
  "interpreter": {
   "hash": "c85384e4cb51c8b72350f3a8712cc8351fdc3955e32a27f9b60c6242ab125f01"
  },
  "kernelspec": {
   "display_name": "Python 3 (ipykernel)",
   "language": "python",
   "name": "python3"
  },
  "language_info": {
   "codemirror_mode": {
    "name": "ipython",
    "version": 3
   },
   "file_extension": ".py",
   "mimetype": "text/x-python",
   "name": "python",
   "nbconvert_exporter": "python",
   "pygments_lexer": "ipython3",
   "version": "3.11.1"
  }
 },
 "nbformat": 4,
 "nbformat_minor": 4
}
